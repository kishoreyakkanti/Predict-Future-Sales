{
  "cells": [
    {
      "cell_type": "markdown",
      "metadata": {
        "id": "8gsrKYAQdmjH"
      },
      "source": [
        "# Modeling"
      ]
    },
    {
      "cell_type": "code",
      "execution_count": null,
      "metadata": {
        "id": "7v4jfR3NcdPA"
      },
      "outputs": [],
      "source": [
        "#Importing Libraries\n",
        "import warnings\n",
        "warnings.filterwarnings(\"ignore\")\n",
        "\n",
        "import pandas as pd \n",
        "import numpy as np\n",
        "import matplotlib.pyplot as plt\n",
        "\n",
        "from sklearn.metrics import mean_squared_error\n",
        "import pickle\n",
        "from tqdm import tqdm"
      ]
    },
    {
      "cell_type": "code",
      "execution_count": null,
      "metadata": {
        "colab": {
          "base_uri": "https://localhost:8080/"
        },
        "id": "Szw0-NNWNcmv",
        "outputId": "3b1c9b74-f966-4f32-eff3-4420ae3331c6"
      },
      "outputs": [
        {
          "output_type": "stream",
          "name": "stdout",
          "text": [
            "Mounted at /content/drive\n"
          ]
        }
      ],
      "source": [
        "from google.colab import drive\n",
        "drive.mount('/content/drive')"
      ]
    },
    {
      "cell_type": "markdown",
      "metadata": {
        "id": "mqSOdQ4BdvVo"
      },
      "source": [
        "## Reading data"
      ]
    },
    {
      "cell_type": "code",
      "execution_count": null,
      "metadata": {
        "colab": {
          "base_uri": "https://localhost:8080/"
        },
        "id": "NpnP8kUttbrc",
        "outputId": "d2719bd7-8d47-4cfe-ed18-4165cf65b41f"
      },
      "outputs": [
        {
          "output_type": "stream",
          "name": "stdout",
          "text": [
            "Number of rows in data: 1636184\n"
          ]
        }
      ],
      "source": [
        "# loading data\n",
        "data=pickle.load(open(\"/content/drive/MyDrive/Colab Notebooks/Predict_Future_Sales/data.p\",\"rb\"))\n",
        "print(\"Number of rows in data:\",len(data))"
      ]
    },
    {
      "cell_type": "code",
      "execution_count": null,
      "metadata": {
        "id": "0geJijB-VAf4"
      },
      "outputs": [],
      "source": [
        "data=pickle.load(open(\"/content/drive/MyDrive/data.p\",\"rb\"))"
      ]
    },
    {
      "cell_type": "markdown",
      "metadata": {
        "id": "nat40-Bkd-oY"
      },
      "source": [
        "## Splitting Data into Train and Test sets\n",
        "\n"
      ]
    },
    {
      "cell_type": "code",
      "execution_count": null,
      "metadata": {
        "colab": {
          "base_uri": "https://localhost:8080/"
        },
        "id": "F7SMnpOcZAEi",
        "outputId": "8cadb525-3f68-4401-82c7-b7dc591f10c9"
      },
      "outputs": [
        {
          "output_type": "stream",
          "name": "stdout",
          "text": [
            "(1421984, 44) (1421984,)\n",
            "(214200, 44) (214200,)\n"
          ]
        }
      ],
      "source": [
        "X_train=data[data['date_block_num']<34].drop('item_cnt_month', axis=1)\n",
        "y_train=data[data['date_block_num']<34]['item_cnt_month']\n",
        "X_test=data[data['date_block_num']==34].drop('item_cnt_month', axis=1)\n",
        "y_test=data[data['date_block_num']==34]['item_cnt_month']\n",
        "\n",
        "print(X_train.shape,y_train.shape)\n",
        "print(X_test.shape,y_test.shape)"
      ]
    },
    {
      "cell_type": "markdown",
      "metadata": {
        "id": "5d4S-vgEDYQ6"
      },
      "source": [
        "**Performance Metric**"
      ]
    },
    {
      "cell_type": "code",
      "execution_count": null,
      "metadata": {
        "id": "-zArftH0CzZc"
      },
      "outputs": [],
      "source": [
        "def root_mean_squared_error(y,y_pred):\n",
        "  return round(np.sqrt(mean_squared_error(y,y_pred)),5)"
      ]
    },
    {
      "cell_type": "markdown",
      "metadata": {
        "id": "LQ-mndea5n40"
      },
      "source": [
        "## Linear Regression"
      ]
    },
    {
      "cell_type": "code",
      "execution_count": null,
      "metadata": {
        "id": "Bm-c9Sw5uTgk"
      },
      "outputs": [],
      "source": [
        "from sklearn.linear_model import LinearRegression\n",
        "\n",
        "reg=LinearRegression().fit(X_train,y_train)\n",
        "\n",
        "y_trainpred=reg.predict(X_train).clip(0,20)\n",
        "y_testpred=reg.predict(X_test).clip(0,20)"
      ]
    },
    {
      "cell_type": "code",
      "execution_count": null,
      "metadata": {
        "id": "qkgU7p10PlEU"
      },
      "outputs": [],
      "source": [
        "result_lr= pd.DataFrame()\n",
        "result_lr['ID']=range(0,214200)\n",
        "result_lr['item_cnt_month']=y_testpred\n",
        "\n",
        "result_lr.to_csv(\"/content/drive/MyDrive/Colab Notebooks/Predict_Future_Sales/result_lr.csv\",index=False)"
      ]
    },
    {
      "cell_type": "code",
      "execution_count": null,
      "metadata": {
        "colab": {
          "base_uri": "https://localhost:8080/"
        },
        "id": "epMJW6DCOJsM",
        "outputId": "664456ca-9f0d-4798-d573-a088ab4f8802"
      },
      "outputs": [
        {
          "name": "stdout",
          "output_type": "stream",
          "text": [
            "train_rmse:  0.90843\n",
            "test_rmse:  1.18\n"
          ]
        }
      ],
      "source": [
        "print(\"train_rmse: \",root_mean_squared_error(y_train,y_trainpred))\n",
        "print(\"test_rmse: \",1.18)"
      ]
    },
    {
      "cell_type": "code",
      "execution_count": null,
      "metadata": {
        "colab": {
          "base_uri": "https://localhost:8080/",
          "height": 513
        },
        "id": "XPoYC1G1Gym8",
        "outputId": "747f1ef5-d258-463a-a7dc-5174094f6c0a"
      },
      "outputs": [
        {
          "data": {
            "image/png": "[encoded data removed]",
            "text/plain": [
              "<Figure size 720x576 with 1 Axes>"
            ]
          },
          "metadata": {},
          "output_type": "display_data"
        }
      ],
      "source": [
        "features = X_train.columns\n",
        "importances =reg.coef_\n",
        "indices = (np.argsort(importances))[-15:]\n",
        "plt.figure(figsize=(10,8))\n",
        "plt.title('Feature Importances')\n",
        "plt.barh(range(len(indices)), importances[indices], color='r', align='center')\n",
        "plt.yticks(range(len(indices)), [features[i] for i in indices])\n",
        "plt.xlabel('Relative Importance')\n",
        "plt.show()"
      ]
    },
    {
      "cell_type": "code",
      "execution_count": null,
      "metadata": {
        "id": "4PzdD8tmYPfH"
      },
      "outputs": [],
      "source": [
        "X_train=data[(data['date_block_num']>21)&(data['date_block_num']<34)].drop('item_cnt_month', axis=1)\n",
        "y_train=data[(data['date_block_num']>21)&(data['date_block_num']<34)]['item_cnt_month']\n",
        "X_test=data[data['date_block_num']==34].drop('item_cnt_month', axis=1)\n",
        "y_test=data[data['date_block_num']==34]['item_cnt_month']"
      ]
    },
    {
      "cell_type": "code",
      "execution_count": null,
      "metadata": {
        "id": "5R9tOI21Y7Dc"
      },
      "outputs": [],
      "source": [
        "reg=LinearRegression().fit(X_train,y_train)\n",
        "\n",
        "y_trainpred=reg.predict(X_train).clip(0,20)\n",
        "y_testpred=reg.predict(X_test).clip(0,20)"
      ]
    },
    {
      "cell_type": "code",
      "execution_count": null,
      "metadata": {
        "id": "I4v8AOeRZCCs"
      },
      "outputs": [],
      "source": [
        "result_lr= pd.DataFrame()\n",
        "result_lr['ID']=range(0,214200)\n",
        "result_lr['item_cnt_month']=y_testpred\n",
        "\n",
        "result_lr.to_csv(\"/content/drive/MyDrive/Colab Notebooks/Predict_Future_Sales/result_lr1.csv\",index=False)"
      ]
    },
    {
      "cell_type": "code",
      "execution_count": null,
      "metadata": {
        "colab": {
          "base_uri": "https://localhost:8080/"
        },
        "id": "lsbWOfx3ZKF0",
        "outputId": "76d1259d-47d1-4222-f3be-63aa74d3de56"
      },
      "outputs": [
        {
          "name": "stdout",
          "output_type": "stream",
          "text": [
            "train_rmse:  0.88623\n",
            "test_rmse:  1.18\n"
          ]
        }
      ],
      "source": [
        "print(\"train_rmse: \",root_mean_squared_error(y_train,y_trainpred))\n",
        "print(\"test_rmse: \",1.18)"
      ]
    },
    {
      "cell_type": "markdown",
      "metadata": {
        "id": "M51GAMaw5-cE"
      },
      "source": [
        "## Decision Tree Regressor"
      ]
    },
    {
      "cell_type": "code",
      "execution_count": null,
      "metadata": {
        "id": "Q2XIs9EX59HK"
      },
      "outputs": [],
      "source": [
        "from sklearn.tree import DecisionTreeRegressor\n",
        "\n",
        "dt=DecisionTreeRegressor()\n",
        "dt.fit(X_train,y_train)\n",
        "\n",
        "y_trainpred=dt.predict(X_train).clip(0,20)\n",
        "y_testpred=dt.predict(X_test).clip(0,20)"
      ]
    },
    {
      "cell_type": "code",
      "execution_count": null,
      "metadata": {
        "colab": {
          "base_uri": "https://localhost:8080/"
        },
        "id": "TZP63BRiOJla",
        "outputId": "3a6db062-6144-46b3-caab-4415c7f27bda"
      },
      "outputs": [
        {
          "name": "stdout",
          "output_type": "stream",
          "text": [
            "train_rmse:  0.0\n"
          ]
        }
      ],
      "source": [
        "print(\"train_rmse: \",root_mean_squared_error(y_train,y_trainpred))"
      ]
    },
    {
      "cell_type": "code",
      "execution_count": null,
      "metadata": {
        "colab": {
          "base_uri": "https://localhost:8080/",
          "height": 513
        },
        "id": "wIxwyouLeDXw",
        "outputId": "5cf19e24-d51d-4e42-fc95-01df46314a0a"
      },
      "outputs": [
        {
          "data": {
            "image/png": "[encoded data removed]",
            "text/plain": [
              "<Figure size 720x576 with 1 Axes>"
            ]
          },
          "metadata": {},
          "output_type": "display_data"
        }
      ],
      "source": [
        "features = X_train.columns\n",
        "importances =dt.feature_importances_\n",
        "indices = (np.argsort(importances))[-12:]\n",
        "plt.figure(figsize=(10,8))\n",
        "plt.title('Feature Importances')\n",
        "plt.barh(range(len(indices)), importances[indices], color='r', align='center')\n",
        "plt.yticks(range(len(indices)), [features[i] for i in indices])\n",
        "plt.xlabel('Relative Importance')\n",
        "plt.show()"
      ]
    },
    {
      "cell_type": "code",
      "execution_count": null,
      "metadata": {
        "id": "_XGoqj9Ii44A"
      },
      "outputs": [],
      "source": [
        "data_=data[['date_block_num','item_cnt_month','shop_id','item_cnt_month_lag_2','date_item_city_avg_item_cnt_lag','date_shop_avg_item_cnt_lag_3','date_item_avgprice',\n",
        " 'date_shop_avg_item_cnt','item_cnt_month_lag_1','shop_item_avgprice','revenue','date_item_city_avg_item_cnt']]"
      ]
    },
    {
      "cell_type": "markdown",
      "metadata": {
        "id": "gviGi8HgnbXt"
      },
      "source": [
        "**Hyper Parameter Tuning**"
      ]
    },
    {
      "cell_type": "code",
      "execution_count": null,
      "metadata": {
        "colab": {
          "base_uri": "https://localhost:8080/"
        },
        "id": "qwnuo3PeDwqB",
        "outputId": "a00ba606-2b99-4caf-fe71-ed2bc3d29454"
      },
      "outputs": [
        {
          "name": "stderr",
          "output_type": "stream",
          "text": [
            "100%|██████████| 5/5 [19:41<00:00, 236.39s/it]\n"
          ]
        }
      ],
      "source": [
        "max_depth=[5,10,15,20,25]\n",
        "cv_rmse_array=[]\n",
        "for i in tqdm(max_depth):\n",
        "  cv_scores=[]\n",
        "  for k in range(4,34):\n",
        "    X_train_=data_[data_['date_block_num']<k].drop('item_cnt_month',axis=1)\n",
        "    y_train_=data_[data_['date_block_num']<k]['item_cnt_month']\n",
        "    X_cv=data_[data_['date_block_num']==k].drop('item_cnt_month', axis=1)\n",
        "    y_cv=data_[data_['date_block_num']==k]['item_cnt_month']\n",
        "\n",
        "    dt=DecisionTreeRegressor(max_depth=i)\n",
        "    dt.fit(X_train_,y_train_)\n",
        "    y_cvpred=dt.predict(X_cv).clip(0,20)\n",
        "    cv_scores.append(root_mean_squared_error(y_cv,y_cvpred))\n",
        "  cv_rmse_array.append(np.mean(cv_scores))"
      ]
    },
    {
      "cell_type": "code",
      "execution_count": null,
      "metadata": {
        "colab": {
          "base_uri": "https://localhost:8080/",
          "height": 383
        },
        "id": "GNkzyZ4tOKRp",
        "outputId": "6d229670-9bbf-4bef-b386-35ada234c01c"
      },
      "outputs": [
        {
          "name": "stdout",
          "output_type": "stream",
          "text": [
            "rmse for max_depth =  5 is 0.952295\n",
            "rmse for max_depth =  10 is 0.5562426666666666\n",
            "rmse for max_depth =  15 is 0.34509500000000004\n",
            "rmse for max_depth =  20 is 0.3239416666666666\n",
            "rmse for max_depth =  25 is 0.3247946666666666\n"
          ]
        },
        {
          "data": {
            "image/png": "[encoded data removed]",
            "text/plain": [
              "<Figure size 432x288 with 1 Axes>"
            ]
          },
          "metadata": {},
          "output_type": "display_data"
        }
      ],
      "source": [
        "for i in range(len(cv_rmse_array)):\n",
        "    print ('rmse for max_depth = ',max_depth[i],'is',cv_rmse_array[i])\n",
        "\n",
        "best_max_depth= np.argmin(cv_rmse_array)\n",
        "\n",
        "fig, ax = plt.subplots()\n",
        "ax.plot(max_depth, cv_rmse_array,c='g')\n",
        "for i, txt in enumerate(np.round(cv_rmse_array,5)):\n",
        "    ax.annotate((max_depth[i],np.round(txt,3)), (max_depth[i],cv_rmse_array[i]))\n",
        "plt.grid()\n",
        "plt.title(\"Cross Validation Error for each max_depth\")\n",
        "plt.xlabel(\"max_depth\")\n",
        "plt.ylabel(\"Error measure\")\n",
        "plt.show()"
      ]
    },
    {
      "cell_type": "code",
      "execution_count": null,
      "metadata": {
        "colab": {
          "base_uri": "https://localhost:8080/"
        },
        "id": "sRu-queuv0s7",
        "outputId": "9d206546-5392-4954-f0de-12746c9a90f0"
      },
      "outputs": [
        {
          "name": "stderr",
          "output_type": "stream",
          "text": [
            "100%|██████████| 5/5 [25:01<00:00, 300.25s/it]\n"
          ]
        }
      ],
      "source": [
        "min_samples_split=[3,5,7,10,15]\n",
        "cv_rmse_array=[]\n",
        "for i in tqdm(min_samples_split):\n",
        "  cv_scores=[]\n",
        "  for k in range(4,34):\n",
        "    X_train_=data_[data_['date_block_num']<k].drop('item_cnt_month',axis=1)\n",
        "    y_train_=data_[data_['date_block_num']<k]['item_cnt_month']\n",
        "    X_cv=data_[data_['date_block_num']==k].drop('item_cnt_month', axis=1)\n",
        "    y_cv=data_[data_['date_block_num']==k]['item_cnt_month']\n",
        "\n",
        "    dt=DecisionTreeRegressor(max_depth=max_depth[best_max_depth],min_samples_split=i)\n",
        "    dt.fit(X_train_,y_train_)\n",
        "    y_cvpred=dt.predict(X_cv).clip(0,20)\n",
        "    cv_scores.append(root_mean_squared_error(y_cv,y_cvpred))\n",
        "  cv_rmse_array.append(np.mean(cv_scores))"
      ]
    },
    {
      "cell_type": "code",
      "execution_count": null,
      "metadata": {
        "colab": {
          "base_uri": "https://localhost:8080/",
          "height": 383
        },
        "id": "WH6ovkQcKu71",
        "outputId": "25f1fdb3-58d0-4f82-bbe0-e5875052ac2b"
      },
      "outputs": [
        {
          "name": "stdout",
          "output_type": "stream",
          "text": [
            "rmse for min_samples_split=  3 is 0.3194483333333333\n",
            "rmse for min_samples_split=  5 is 0.3198213333333333\n",
            "rmse for min_samples_split=  7 is 0.3160823333333333\n",
            "rmse for min_samples_split=  10 is 0.3149809999999999\n",
            "rmse for min_samples_split=  15 is 0.31880500000000006\n"
          ]
        },
        {
          "data": {
            "image/png": "[encoded data removed]",
            "text/plain": [
              "<Figure size 432x288 with 1 Axes>"
            ]
          },
          "metadata": {},
          "output_type": "display_data"
        }
      ],
      "source": [
        "for i in range(len(cv_rmse_array)):\n",
        "    print ('rmse for min_samples_split= ',min_samples_split[i],'is',cv_rmse_array[i])\n",
        "\n",
        "best_min_samples_split= np.argmin(cv_rmse_array)\n",
        "\n",
        "fig, ax = plt.subplots()\n",
        "ax.plot(min_samples_split, cv_rmse_array,c='g')\n",
        "for i, txt in enumerate(np.round(cv_rmse_array,5)):\n",
        "    ax.annotate((min_samples_split[i],np.round(txt,4)), (min_samples_split[i],cv_rmse_array[i]))\n",
        "plt.grid()\n",
        "plt.title(\"Cross Validation Error for each min_sample_split\")\n",
        "plt.xlabel(\"min_samples_split\")\n",
        "plt.ylabel(\"Error measure\")\n",
        "plt.show()"
      ]
    },
    {
      "cell_type": "code",
      "execution_count": null,
      "metadata": {
        "id": "c7yUU192C77r"
      },
      "outputs": [],
      "source": [
        "X_train_=data_[data_['date_block_num']<34].drop('item_cnt_month',axis=1)\n",
        "y_train_=data_[data_['date_block_num']<34]['item_cnt_month']\n",
        "X_test=data_[data_['date_block_num']==34].drop('item_cnt_month', axis=1)\n",
        "y_test=data_[data_['date_block_num']==34]['item_cnt_month']"
      ]
    },
    {
      "cell_type": "code",
      "execution_count": null,
      "metadata": {
        "id": "EX0ZDBlNCw9h"
      },
      "outputs": [],
      "source": [
        "dt_model=DecisionTreeRegressor(max_depth=max_depth[best_max_depth],min_samples_split=min_samples_split[best_min_samples_split])\n",
        "dt_model.fit(X_train_,y_train_)\n",
        "\n",
        "y_trainpred=dt_model.predict(X_train_).clip(0,20)\n",
        "y_testpred=dt_model.predict(X_test).clip(0,20)"
      ]
    },
    {
      "cell_type": "code",
      "execution_count": null,
      "metadata": {
        "id": "fwEGeqc-CxAi"
      },
      "outputs": [],
      "source": [
        "result_dt= pd.DataFrame()\n",
        "result_dt['ID']=range(0,214200)\n",
        "result_dt['item_cnt_month']=y_testpred\n",
        "\n",
        "result_dt.to_csv(\"/content/drive/MyDrive/Colab Notebooks/Predict_Future_Sales/result_dt1.csv\",index=False)"
      ]
    },
    {
      "cell_type": "code",
      "execution_count": null,
      "metadata": {
        "colab": {
          "base_uri": "https://localhost:8080/"
        },
        "id": "wwnQpalfCxCk",
        "outputId": "c5f989f8-f80f-476c-d172-874630893112"
      },
      "outputs": [
        {
          "name": "stdout",
          "output_type": "stream",
          "text": [
            "train_rmse:  0.10857\n",
            "test_rmse:  1.3837\n"
          ]
        }
      ],
      "source": [
        "print(\"train_rmse: \",root_mean_squared_error(y_train,y_trainpred))\n",
        "print(\"test_rmse: \",1.3837)"
      ]
    },
    {
      "cell_type": "markdown",
      "source": [
        "**using last 12 months data**"
      ],
      "metadata": {
        "id": "FeDdOl4MkKx9"
      }
    },
    {
      "cell_type": "code",
      "execution_count": null,
      "metadata": {
        "id": "3nDED9PoFSZ3"
      },
      "outputs": [],
      "source": [
        "X_train_=data_[(data_['date_block_num']>21)&(data_['date_block_num']<34)].drop('item_cnt_month',axis=1)\n",
        "y_train_=data_[(data_['date_block_num']>21)&(data_['date_block_num']<34)]['item_cnt_month']\n",
        "X_test=data_[data_['date_block_num']==34].drop('item_cnt_month', axis=1)\n",
        "y_test=data_[data_['date_block_num']==34]['item_cnt_month']"
      ]
    },
    {
      "cell_type": "code",
      "execution_count": null,
      "metadata": {
        "id": "c_haGO9jFSgg"
      },
      "outputs": [],
      "source": [
        "dt_model=DecisionTreeRegressor(max_depth=max_depth[best_max_depth],min_samples_split=min_samples_split[best_min_samples_split])\n",
        "dt_model.fit(X_train_,y_train_)\n",
        "\n",
        "y_trainpred=dt_model.predict(X_train_).clip(0,20)\n",
        "y_testpred=dt_model.predict(X_test).clip(0,20)"
      ]
    },
    {
      "cell_type": "code",
      "execution_count": null,
      "metadata": {
        "id": "BMwW-UTCF0-E"
      },
      "outputs": [],
      "source": [
        "result_dt= pd.DataFrame()\n",
        "result_dt['ID']=range(0,214200)\n",
        "result_dt['item_cnt_month']=y_testpred\n",
        "\n",
        "result_dt.to_csv(\"/content/drive/MyDrive/Colab Notebooks/Predict_Future_Sales/result_dt2.csv\",index=False)"
      ]
    },
    {
      "cell_type": "code",
      "execution_count": null,
      "metadata": {
        "colab": {
          "base_uri": "https://localhost:8080/"
        },
        "id": "LsuDs3uxF9AQ",
        "outputId": "cd7fd173-c1c3-42c4-87f5-c8af9894f0b5"
      },
      "outputs": [
        {
          "name": "stdout",
          "output_type": "stream",
          "text": [
            "train_rmse:  0.1561\n",
            "test_rmse:  1.36788\n"
          ]
        }
      ],
      "source": [
        "print(\"train_rmse: \",root_mean_squared_error(y_train_,y_trainpred))\n",
        "print(\"test_rmse: \",1.36788)"
      ]
    },
    {
      "cell_type": "markdown",
      "metadata": {
        "id": "gRNKU6Qvz5CI"
      },
      "source": [
        "## Random Forest Regressor"
      ]
    },
    {
      "cell_type": "code",
      "execution_count": null,
      "metadata": {
        "id": "xFjhacWy-78i"
      },
      "outputs": [],
      "source": [
        "from sklearn.ensemble import RandomForestRegressor\n",
        "\n",
        "rfr=RandomForestRegressor()\n",
        "rfr.fit(X_train,y_train)\n",
        "\n",
        "y_trainpred=rfr.predict(X_train).clip(0,20)\n",
        "y_testpred=rfr.predict(X_test).clip(0,20)"
      ]
    },
    {
      "cell_type": "code",
      "execution_count": null,
      "metadata": {
        "colab": {
          "base_uri": "https://localhost:8080/"
        },
        "id": "1cGDbU2lRKIq",
        "outputId": "fd65c2dc-0c65-4e40-bfe4-3c8b95438523"
      },
      "outputs": [
        {
          "name": "stdout",
          "output_type": "stream",
          "text": [
            "train_rmse:  0.07241\n"
          ]
        }
      ],
      "source": [
        "print(\"train_rmse: \",root_mean_squared_error(y_train,y_trainpred))"
      ]
    },
    {
      "cell_type": "code",
      "execution_count": null,
      "metadata": {
        "colab": {
          "base_uri": "https://localhost:8080/",
          "height": 513
        },
        "id": "9spzSrZZhvi2",
        "outputId": "6eee0b6d-b109-4358-d57c-885b1f71acb2"
      },
      "outputs": [
        {
          "data": {
            "image/png": "[encoded data removed]",
            "text/plain": [
              "<Figure size 720x576 with 1 Axes>"
            ]
          },
          "metadata": {},
          "output_type": "display_data"
        }
      ],
      "source": [
        "features = X_train.columns\n",
        "importances =rfr.feature_importances_\n",
        "indices = (np.argsort(importances))[-12:]\n",
        "plt.figure(figsize=(10,8))\n",
        "plt.title('Feature Importances')\n",
        "plt.barh(range(len(indices)), importances[indices], color='r', align='center')\n",
        "plt.yticks(range(len(indices)), [features[i] for i in indices])\n",
        "plt.xlabel('Relative Importance')\n",
        "plt.show()"
      ]
    },
    {
      "cell_type": "code",
      "execution_count": null,
      "metadata": {
        "id": "1U9FQpryiQ5R"
      },
      "outputs": [],
      "source": [
        "data_=data[['date_block_num','item_cnt_month','shop_id','date_shop_avg_item_cnt_lag_3','item_cnt_month_lag_2','date_item_city_avg_item_cnt_lag',\n",
        "           'shop_revenue_lag','date_shop_avg_item_cnt','date_item_avgprice','item_cnt_month_lag_1','shop_item_avgprice','revenue','date_item_city_avg_item_cnt']]"
      ]
    },
    {
      "cell_type": "markdown",
      "metadata": {
        "id": "uD-oiJeNiUPW"
      },
      "source": [
        "**Hyper Parameter Tuning**"
      ]
    },
    {
      "cell_type": "code",
      "execution_count": null,
      "metadata": {
        "id": "Q9e0taNfpWGx"
      },
      "outputs": [],
      "source": [
        "from sklearn.ensemble import RandomForestRegressor"
      ]
    },
    {
      "cell_type": "code",
      "execution_count": null,
      "metadata": {
        "id": "VBgIvgHxGiOV"
      },
      "outputs": [],
      "source": [
        "max_depth=[5,10,15,20,25,30]\n",
        "cv_rmse_array=[]\n",
        "for i in max_depth:\n",
        "  cv_scores=[]\n",
        "  for k in range(4,34):\n",
        "    X_train_=data_[data_['date_block_num']<k].drop('item_cnt_month',axis=1)\n",
        "    y_train_=data_[data_['date_block_num']<k]['item_cnt_month']\n",
        "    X_cv=data_[data_['date_block_num']==k].drop('item_cnt_month', axis=1)\n",
        "    y_cv=data_[data_['date_block_num']==k]['item_cnt_month']\n",
        "\n",
        "    rfr=RandomForestRegressor(max_depth=i,n_jobs=-1)\n",
        "    rfr.fit(X_train_,y_train_)\n",
        "    y_cvpred=rfr.predict(X_cv).clip(0,20)\n",
        "    cv_scores.append(root_mean_squared_error(y_cv,y_cvpred))\n",
        "  cv_rmse_array.append(np.mean(cv_scores))"
      ]
    },
    {
      "cell_type": "code",
      "execution_count": null,
      "metadata": {
        "colab": {
          "base_uri": "https://localhost:8080/",
          "height": 400
        },
        "id": "ibm3se3coffp",
        "outputId": "0cb42e97-41e5-44db-ec79-6367ca7f5347"
      },
      "outputs": [
        {
          "name": "stdout",
          "output_type": "stream",
          "text": [
            "rmse for max_depth =  5 is 0.8874376666666667\n",
            "rmse for max_depth =  10 is 0.43472733333333335\n",
            "rmse for max_depth =  15 is 0.22985666666666668\n",
            "rmse for max_depth =  20 is 0.21269800000000003\n",
            "rmse for max_depth =  25 is 0.2109583333333333\n",
            "rmse for max_depth =  30 is 0.21137166666666665\n"
          ]
        },
        {
          "data": {
            "image/png": "[encoded data removed]",
            "text/plain": [
              "<Figure size 432x288 with 1 Axes>"
            ]
          },
          "metadata": {},
          "output_type": "display_data"
        }
      ],
      "source": [
        "for i in range(len(cv_rmse_array)):\n",
        "    print ('rmse for max_depth = ',max_depth[i],'is',cv_rmse_array[i])\n",
        "\n",
        "best_max_depth= np.argmin(cv_rmse_array)\n",
        "\n",
        "fig, ax = plt.subplots()\n",
        "ax.plot(max_depth, cv_rmse_array,c='g')\n",
        "for i, txt in enumerate(np.round(cv_rmse_array,5)):\n",
        "    ax.annotate((max_depth[i],np.round(txt,4)), (max_depth[i],cv_rmse_array[i]))\n",
        "plt.grid()\n",
        "plt.title(\"Cross Validation Error for each max_depth\")\n",
        "plt.xlabel(\"max_depth\")\n",
        "plt.ylabel(\"Error measure\")\n",
        "plt.show()"
      ]
    },
    {
      "cell_type": "code",
      "source": [
        "estimators=[10,50,100]\n",
        "cv_rmse_array=[]\n",
        "for i in tqdm(estimators):\n",
        "  cv_scores=[]\n",
        "  for k in range(4,34):\n",
        "    X_train_=data_[data_['date_block_num']<k].drop('item_cnt_month',axis=1)\n",
        "    y_train_=data_[data_['date_block_num']<k]['item_cnt_month']\n",
        "    X_cv=data_[data_['date_block_num']==k].drop('item_cnt_month', axis=1)\n",
        "    y_cv=data_[data_['date_block_num']==k]['item_cnt_month']\n",
        "\n",
        "    rfr=RandomForestRegressor(max_depth=25,n_estimators=i,n_jobs=-1)\n",
        "    rfr.fit(X_train_,y_train_)\n",
        "    y_cvpred=rfr.predict(X_cv).clip(0,20)\n",
        "    cv_scores.append(root_mean_squared_error(y_cv,y_cvpred))\n",
        "  cv_rmse_array.append(np.mean(cv_scores))"
      ],
      "metadata": {
        "id": "MgPEWC5bexvi"
      },
      "execution_count": null,
      "outputs": []
    },
    {
      "cell_type": "code",
      "execution_count": null,
      "metadata": {
        "colab": {
          "base_uri": "https://localhost:8080/"
        },
        "id": "Qbh56HxyjtQo",
        "outputId": "4df07f36-a969-45c6-d8e1-3eaa8d8490c0"
      },
      "outputs": [
        {
          "output_type": "stream",
          "name": "stdout",
          "text": [
            "rmse for n_estimators =  10 is 0.23225800000000002\n",
            "rmse for n_estimators =  50 is 0.21503099999999994\n",
            "rmse for n_estimators =  100 is 0.21152833333333335\n"
          ]
        }
      ],
      "source": [
        "for i in range(len(cv_rmse_array)):\n",
        "    print ('rmse for n_estimators = ',estimators[i],'is',cv_rmse_array[i])"
      ]
    },
    {
      "cell_type": "code",
      "source": [
        "X_train_=data_[data_['date_block_num']<34].drop('item_cnt_month',axis=1)\n",
        "y_train_=data_[data_['date_block_num']<34]['item_cnt_month']\n",
        "X_test=data_[data_['date_block_num']==34].drop('item_cnt_month', axis=1)\n",
        "y_test=data_[data_['date_block_num']==34]['item_cnt_month']"
      ],
      "metadata": {
        "id": "NwT2JzCHfo0w"
      },
      "execution_count": null,
      "outputs": []
    },
    {
      "cell_type": "code",
      "source": [
        "rfr=RandomForestRegressor(max_depth=25,n_estimators=500,n_jobs=-1)\n",
        "rfr.fit(X_train_,y_train_)\n",
        "\n",
        "y_trainpred=rfr.predict(X_train_).clip(0,20)\n",
        "y_testpred=rfr.predict(X_test).clip(0,20)"
      ],
      "metadata": {
        "id": "ze9_cIIwgCrZ"
      },
      "execution_count": null,
      "outputs": []
    },
    {
      "cell_type": "code",
      "source": [
        "result_rf= pd.DataFrame()\n",
        "result_rf['ID']=range(0,214200)\n",
        "result_rf['item_cnt_month']=y_testpred\n",
        "\n",
        "result_rf.to_csv(\"/content/drive/MyDrive/Colab Notebooks/Predict_Future_Sales/result_rf.csv\",index=False)"
      ],
      "metadata": {
        "id": "fuSNUTxGgMT_"
      },
      "execution_count": null,
      "outputs": []
    },
    {
      "cell_type": "code",
      "source": [
        "print(\"train_rmse: \",root_mean_squared_error(y_train,y_trainpred))\n",
        "print(\"test_rmse: \",1.388)"
      ],
      "metadata": {
        "colab": {
          "base_uri": "https://localhost:8080/"
        },
        "id": "9FznklMRghJY",
        "outputId": "c2bb97d8-6904-41a9-9bd6-a65e94c140a5"
      },
      "execution_count": null,
      "outputs": [
        {
          "output_type": "stream",
          "name": "stdout",
          "text": [
            "train_rmse:  0.06223\n",
            "test_rmse:  1.388\n"
          ]
        }
      ]
    },
    {
      "cell_type": "markdown",
      "source": [
        "**Using 12 months data**"
      ],
      "metadata": {
        "id": "8wCMZo-D6D69"
      }
    },
    {
      "cell_type": "code",
      "source": [
        "X_train_=data_[(data_['date_block_num']>21)&(data_['date_block_num']<34)].drop('item_cnt_month',axis=1)\n",
        "y_train_=data_[(data_['date_block_num']>21)&(data_['date_block_num']<34)]['item_cnt_month']\n",
        "X_test=data_[data_['date_block_num']==34].drop('item_cnt_month', axis=1)\n",
        "y_test=data_[data_['date_block_num']==34]['item_cnt_month']"
      ],
      "metadata": {
        "id": "OEjeRprJ6C6Y"
      },
      "execution_count": null,
      "outputs": []
    },
    {
      "cell_type": "code",
      "source": [
        "rfr=RandomForestRegressor(max_depth=25,n_estimators=500,n_jobs=-1)\n",
        "rfr.fit(X_train_,y_train_)\n",
        "\n",
        "y_trainpred=rfr.predict(X_train_).clip(0,20)\n",
        "y_testpred=rfr.predict(X_test).clip(0,20)"
      ],
      "metadata": {
        "id": "L4nt-_qy6LE8"
      },
      "execution_count": null,
      "outputs": []
    },
    {
      "cell_type": "code",
      "source": [
        "result_rf= pd.DataFrame()\n",
        "result_rf['ID']=range(0,214200)\n",
        "result_rf['item_cnt_month']=y_testpred\n",
        "\n",
        "result_rf.to_csv(\"/content/drive/MyDrive/Colab Notebooks/Predict_Future_Sales/result_rf1.csv\",index=False)"
      ],
      "metadata": {
        "id": "ZBGFh7Qs6QP1"
      },
      "execution_count": null,
      "outputs": []
    },
    {
      "cell_type": "code",
      "source": [
        "print(\"train_rmse: \",root_mean_squared_error(y_train_,y_trainpred))\n",
        "print(\"test_rmse: \",1.375)"
      ],
      "metadata": {
        "colab": {
          "base_uri": "https://localhost:8080/"
        },
        "id": "uQEEW79u6fYP",
        "outputId": "066014bf-0910-4cbd-fd79-6eb03042d02b"
      },
      "execution_count": null,
      "outputs": [
        {
          "output_type": "stream",
          "name": "stdout",
          "text": [
            "train_rmse:  0.07959\n",
            "test_rmse:  1.375\n"
          ]
        }
      ]
    },
    {
      "cell_type": "markdown",
      "metadata": {
        "id": "3w8uHe1126_H"
      },
      "source": [
        "## XGBoost Regressor"
      ]
    },
    {
      "cell_type": "code",
      "execution_count": null,
      "metadata": {
        "id": "tRpLraGe3EPa"
      },
      "outputs": [],
      "source": [
        "# https://xgboost.readthedocs.io/en/latest/python/python_api.html?#xgboost.XGBRegressor\n",
        "\n",
        "import xgboost as xgb\n",
        "\n",
        "xgb_model= xgb.XGBRegressor(objective ='reg:squarederror')\n",
        "xgb_model.fit(X_train,y_train)\n",
        "\n",
        "y_trainpred=xgb_model.predict(X_train).clip(0,20)\n",
        "y_testpred=xgb_model.predict(X_test).clip(0,20)"
      ]
    },
    {
      "cell_type": "code",
      "execution_count": null,
      "metadata": {
        "colab": {
          "base_uri": "https://localhost:8080/"
        },
        "id": "LTT05gKyRvYA",
        "outputId": "13008c9e-b6fd-4216-e2cd-385335c0cbb6"
      },
      "outputs": [
        {
          "name": "stdout",
          "output_type": "stream",
          "text": [
            "train_rmse:  0.52633\n"
          ]
        }
      ],
      "source": [
        "print(\"train_rmse: \",root_mean_squared_error(y_train,y_trainpred))"
      ]
    },
    {
      "cell_type": "code",
      "execution_count": null,
      "metadata": {
        "colab": {
          "base_uri": "https://localhost:8080/",
          "height": 730
        },
        "id": "52JnTT-YhA1G",
        "outputId": "93d38645-0b47-41ad-e786-4924ec0c4d83"
      },
      "outputs": [
        {
          "data": {
            "image/png": "[encoded data removed]",
            "text/plain": [
              "<Figure size 720x864 with 1 Axes>"
            ]
          },
          "metadata": {},
          "output_type": "display_data"
        }
      ],
      "source": [
        "features = X_train.columns\n",
        "importances =xgb_model.feature_importances_\n",
        "indices = (np.argsort(importances))[-26:]\n",
        "plt.figure(figsize=(10,12))\n",
        "plt.title('Feature Importances')\n",
        "plt.barh(range(len(indices)), importances[indices], color='r', align='center')\n",
        "plt.yticks(range(len(indices)), [features[i] for i in indices])\n",
        "plt.xlabel('Relative Importance')\n",
        "plt.show()"
      ]
    },
    {
      "cell_type": "code",
      "execution_count": null,
      "metadata": {
        "id": "bEL_kMTG0fiQ"
      },
      "outputs": [],
      "source": [
        "data_=data[['date_block_num','item_cnt_month','shop_itemcategory_revenue','delta_item_price','revenue_lag','item_avgprice','date_item_avg_item_cnt_lag_2',\n",
        "            'date_itemcategory_avg_item_cnt','date_item_city_avg_item_cnt_lag','shop_item_avgprice_lag','date_city_avg_item_cnt','date_shop_avg_item_cnt_lag_2',\n",
        "            'shop_category_encoding','date_item_avgprice_lag','date_shop_itemcategory_avg_item_cnt','shop_id','date_item_avgprice','shop_item_avgprice','revenue',\n",
        "            'date_shop_avg_item_cnt_lag_3','date_shop_avg_item_cnt','shop_revenue','item_cnt_month_lag_1','item_cnt_month_lag_3','shop_revenue_lag','item_cnt_month_lag_2',\n",
        "            'date_item_city_avg_item_cnt']]"
      ]
    },
    {
      "cell_type": "markdown",
      "metadata": {
        "id": "iwxng4-D0vWx"
      },
      "source": [
        "**Hyper Parameter Tuning**"
      ]
    },
    {
      "cell_type": "code",
      "execution_count": null,
      "metadata": {
        "id": "NyvPBckk5XV6"
      },
      "outputs": [],
      "source": [
        "import xgboost as xgb"
      ]
    },
    {
      "cell_type": "code",
      "execution_count": null,
      "metadata": {
        "colab": {
          "base_uri": "https://localhost:8080/"
        },
        "id": "-OGSzJMg0_cn",
        "outputId": "e952a5c8-b17f-4cef-eadd-b230950abcec"
      },
      "outputs": [
        {
          "name": "stderr",
          "output_type": "stream",
          "text": [
            "100%|██████████| 7/7 [12:31<00:00, 107.41s/it]\n"
          ]
        }
      ],
      "source": [
        "max_depth=[5,6,7,8,9,10,11]\n",
        "cv_rmse_array=[]\n",
        "for i in tqdm(max_depth):\n",
        "  cv_scores=[]\n",
        "  for k in range(4,34):\n",
        "    X_train_=data_[data_['date_block_num']<k].drop('item_cnt_month',axis=1)\n",
        "    y_train_=data_[data_['date_block_num']<k]['item_cnt_month']\n",
        "    X_cv=data_[data_['date_block_num']==k].drop('item_cnt_month', axis=1)\n",
        "    y_cv=data_[data_['date_block_num']==k]['item_cnt_month']\n",
        "\n",
        "    xgb_model= xgb.XGBRegressor(max_depth=i,objective ='reg:squarederror',n_jobs=-1,tree_method='gpu_hist',gpu_id=0)\n",
        "    xgb_model.fit(X_train_,y_train_)\n",
        "    y_cvpred=xgb_model.predict(X_cv).clip(0,20)\n",
        "    cv_scores.append(root_mean_squared_error(y_cv,y_cvpred))\n",
        "  cv_rmse_array.append(np.mean(cv_scores))"
      ]
    },
    {
      "cell_type": "code",
      "execution_count": null,
      "metadata": {
        "colab": {
          "base_uri": "https://localhost:8080/",
          "height": 417
        },
        "id": "EKPgDXAr7pzp",
        "outputId": "af2d425e-a806-452f-8fbc-ec4421250caa"
      },
      "outputs": [
        {
          "name": "stdout",
          "output_type": "stream",
          "text": [
            "rmse for max_depth =  5 is 0.2943306666666667\n",
            "rmse for max_depth =  6 is 0.24100133333333332\n",
            "rmse for max_depth =  7 is 0.21234633333333336\n",
            "rmse for max_depth =  8 is 0.19909500000000005\n",
            "rmse for max_depth =  9 is 0.1968136666666667\n",
            "rmse for max_depth =  10 is 0.19951933333333335\n",
            "rmse for max_depth =  11 is 0.2066133333333333\n"
          ]
        },
        {
          "data": {
            "image/png": "[encoded data removed]",
            "text/plain": [
              "<Figure size 432x288 with 1 Axes>"
            ]
          },
          "metadata": {},
          "output_type": "display_data"
        }
      ],
      "source": [
        "for i in range(len(cv_rmse_array)):\n",
        "    print ('rmse for max_depth = ',max_depth[i],'is',cv_rmse_array[i])\n",
        "\n",
        "best_max_depth= np.argmin(cv_rmse_array)\n",
        "\n",
        "fig, ax = plt.subplots()\n",
        "ax.plot(max_depth, cv_rmse_array,c='g')\n",
        "for i, txt in enumerate(np.round(cv_rmse_array,5)):\n",
        "    ax.annotate((max_depth[i],np.round(txt,3)), (max_depth[i],cv_rmse_array[i]))\n",
        "plt.grid()\n",
        "plt.title(\"Cross Validation Error for each max_depth\")\n",
        "plt.xlabel(\"max_depth\")\n",
        "plt.ylabel(\"Error measure\")\n",
        "plt.show()"
      ]
    },
    {
      "cell_type": "code",
      "execution_count": null,
      "metadata": {
        "colab": {
          "base_uri": "https://localhost:8080/"
        },
        "id": "gmBgqbM7LG8e",
        "outputId": "8663a6cc-e42a-4363-a4d5-24be8eca895d"
      },
      "outputs": [
        {
          "name": "stderr",
          "output_type": "stream",
          "text": [
            "100%|██████████| 5/5 [54:15<00:00, 651.01s/it]\n"
          ]
        }
      ],
      "source": [
        "estimators=[100,300,500,1000,2000]\n",
        "cv_rmse_array=[]\n",
        "for i in tqdm(estimators):\n",
        "  cv_scores=[]\n",
        "  for k in range(4,34):\n",
        "    X_train_=data_[data_['date_block_num']<k].drop('item_cnt_month',axis=1)\n",
        "    y_train_=data_[data_['date_block_num']<k]['item_cnt_month']\n",
        "    X_cv=data_[data_['date_block_num']==k].drop('item_cnt_month', axis=1)\n",
        "    y_cv=data_[data_['date_block_num']==k]['item_cnt_month']\n",
        "\n",
        "    xgb_model= xgb.XGBRegressor(max_depth=9,n_estimators=i,objective ='reg:squarederror',n_jobs=-1,tree_method='gpu_hist',gpu_id=0)\n",
        "    xgb_model.fit(X_train_,y_train_)\n",
        "    y_cvpred=xgb_model.predict(X_cv).clip(0,20)\n",
        "    cv_scores.append(root_mean_squared_error(y_cv,y_cvpred))\n",
        "  cv_rmse_array.append(np.mean(cv_scores))"
      ]
    },
    {
      "cell_type": "code",
      "execution_count": null,
      "metadata": {
        "colab": {
          "base_uri": "https://localhost:8080/",
          "height": 383
        },
        "id": "r7tGxw3FbJOb",
        "outputId": "1bfd3fa4-4855-427c-bdde-2c13d444cc17"
      },
      "outputs": [
        {
          "name": "stdout",
          "output_type": "stream",
          "text": [
            "rmse for n_estimators =  100 is 0.196898\n",
            "rmse for n_estimators =  300 is 0.19086633333333328\n",
            "rmse for n_estimators =  500 is 0.18929733333333337\n",
            "rmse for n_estimators =  1000 is 0.1883536666666666\n",
            "rmse for n_estimators =  2000 is 0.18788866666666668\n"
          ]
        },
        {
          "data": {
            "image/png": "[encoded data removed]",
            "text/plain": [
              "<Figure size 432x288 with 1 Axes>"
            ]
          },
          "metadata": {},
          "output_type": "display_data"
        }
      ],
      "source": [
        "for i in range(len(cv_rmse_array)):\n",
        "    print ('rmse for n_estimators = ',estimators[i],'is',cv_rmse_array[i])\n",
        "\n",
        "best_n_estimators= np.argmin(cv_rmse_array)\n",
        "\n",
        "fig, ax = plt.subplots()\n",
        "ax.plot(estimators, cv_rmse_array,c='g')\n",
        "for i, txt in enumerate(np.round(cv_rmse_array,5)):\n",
        "    ax.annotate((estimators[i],np.round(txt,3)), (estimators[i],cv_rmse_array[i]))\n",
        "plt.grid()\n",
        "plt.title(\"Cross Validation Error for each n_estimators\")\n",
        "plt.xlabel(\"n_estimators\")\n",
        "plt.ylabel(\"Error measure\")\n",
        "plt.show()"
      ]
    },
    {
      "cell_type": "code",
      "execution_count": null,
      "metadata": {
        "id": "zNs6XYCo8cqc"
      },
      "outputs": [],
      "source": [
        "xgb_model= xgb.XGBRegressor(max_depth=9,n_estimators=2000,objective ='reg:squarederror',n_jobs=-1,tree_method='gpu_hist',gpu_id=0)\n",
        "xgb_model.fit(X_train,y_train)\n",
        "\n",
        "y_trainpred=xgb_model.predict(X_train).clip(0,20)\n",
        "y_testpred=xgb_model.predict(X_test).clip(0,20)"
      ]
    },
    {
      "cell_type": "code",
      "execution_count": null,
      "metadata": {
        "id": "o5qJkaf_5kfp"
      },
      "outputs": [],
      "source": [
        "result_xgb= pd.DataFrame()\n",
        "result_xgb['ID']=range(0,214200)\n",
        "result_xgb['item_cnt_month']=y_testpred\n",
        "\n",
        "result_xgb.to_csv(\"/content/drive/MyDrive/Colab Notebooks/Predict_Future_Sales/result_xgb.csv\",index=False)"
      ]
    },
    {
      "cell_type": "code",
      "execution_count": null,
      "metadata": {
        "colab": {
          "base_uri": "https://localhost:8080/"
        },
        "id": "7iu2F31GJBnZ",
        "outputId": "f6130a44-5217-41b0-b74c-e7c238c5ede1"
      },
      "outputs": [
        {
          "name": "stdout",
          "output_type": "stream",
          "text": [
            "train_rmse:  0.01251\n",
            "test_rmse:  1.44\n"
          ]
        }
      ],
      "source": [
        "print(\"train_rmse: \",root_mean_squared_error(y_train,y_trainpred))\n",
        "print(\"test_rmse: \",1.44)"
      ]
    },
    {
      "cell_type": "markdown",
      "source": [
        "**Using last 12 months data**"
      ],
      "metadata": {
        "id": "zecAb-sajfZl"
      }
    },
    {
      "cell_type": "code",
      "execution_count": null,
      "metadata": {
        "id": "7KBN7D7OKEYo"
      },
      "outputs": [],
      "source": [
        "X_train_=data_[(data_['date_block_num']>21)&(data_['date_block_num']<34)].drop('item_cnt_month',axis=1)\n",
        "y_train_=data_[(data_['date_block_num']>21)&(data_['date_block_num']<34)]['item_cnt_month']\n",
        "X_test=data_[data_['date_block_num']==34].drop('item_cnt_month', axis=1)\n",
        "y_test=data_[data_['date_block_num']==34]['item_cnt_month']"
      ]
    },
    {
      "cell_type": "code",
      "execution_count": null,
      "metadata": {
        "id": "lQ0stOUiKONE"
      },
      "outputs": [],
      "source": [
        "xgb_model= xgb.XGBRegressor(max_depth=9,n_estimators=2000,objective ='reg:squarederror',n_jobs=-1,tree_method='gpu_hist',gpu_id=0)\n",
        "xgb_model.fit(X_train_,y_train_)\n",
        "\n",
        "y_trainpred=xgb_model.predict(X_train_).clip(0,20)\n",
        "y_testpred=xgb_model.predict(X_test).clip(0,20)"
      ]
    },
    {
      "cell_type": "code",
      "execution_count": null,
      "metadata": {
        "id": "70X9HutcL6i7"
      },
      "outputs": [],
      "source": [
        "result_xgb= pd.DataFrame()\n",
        "result_xgb['ID']=range(0,214200)\n",
        "result_xgb['item_cnt_month']=y_testpred\n",
        "\n",
        "result_xgb.to_csv(\"/content/drive/MyDrive/Colab Notebooks/Predict_Future_Sales/result_xgb2.csv\",index=False)"
      ]
    },
    {
      "cell_type": "code",
      "execution_count": null,
      "metadata": {
        "colab": {
          "base_uri": "https://localhost:8080/"
        },
        "id": "FHyjpqSUKS-G",
        "outputId": "f0dc5b6a-9ec5-4e9f-89bf-e869a9db3892"
      },
      "outputs": [
        {
          "name": "stdout",
          "output_type": "stream",
          "text": [
            "train_rmse:  0.00576\n",
            "test_rmse:  1.436\n"
          ]
        }
      ],
      "source": [
        "print(\"train_rmse: \",root_mean_squared_error(y_train_,y_trainpred))\n",
        "print(\"test_rmse: \",1.436)"
      ]
    },
    {
      "cell_type": "markdown",
      "source": [
        "**using last 24 months data**"
      ],
      "metadata": {
        "id": "e71vtiVcjoG2"
      }
    },
    {
      "cell_type": "code",
      "execution_count": null,
      "metadata": {
        "id": "OgPInTSVKkcP"
      },
      "outputs": [],
      "source": [
        "X_train_=data_[(data_['date_block_num']>9)&(data_['date_block_num']<34)].drop('item_cnt_month',axis=1)\n",
        "y_train_=data_[(data_['date_block_num']>9)&(data_['date_block_num']<34)]['item_cnt_month']\n",
        "X_test=data_[data_['date_block_num']==34].drop('item_cnt_month', axis=1)\n",
        "y_test=data_[data_['date_block_num']==34]['item_cnt_month']"
      ]
    },
    {
      "cell_type": "code",
      "execution_count": null,
      "metadata": {
        "id": "Xj191ZQoKlcs"
      },
      "outputs": [],
      "source": [
        "xgb_model= xgb.XGBRegressor(max_depth=9,n_estimators=2000,objective ='reg:squarederror',n_jobs=-1,tree_method='gpu_hist',gpu_id=0)\n",
        "xgb_model.fit(X_train_,y_train_)\n",
        "\n",
        "y_trainpred=xgb_model.predict(X_train_).clip(0,20)\n",
        "y_testpred=xgb_model.predict(X_test).clip(0,20)"
      ]
    },
    {
      "cell_type": "code",
      "execution_count": null,
      "metadata": {
        "id": "4ztxlwcSL-9z"
      },
      "outputs": [],
      "source": [
        "result_xgb= pd.DataFrame()\n",
        "result_xgb['ID']=range(0,214200)\n",
        "result_xgb['item_cnt_month']=y_testpred\n",
        "\n",
        "result_xgb.to_csv(\"/content/drive/MyDrive/Colab Notebooks/Predict_Future_Sales/result_xgb3.csv\",index=False)"
      ]
    },
    {
      "cell_type": "code",
      "execution_count": null,
      "metadata": {
        "colab": {
          "base_uri": "https://localhost:8080/"
        },
        "id": "zuoAuP7eKoZC",
        "outputId": "3a2e08c9-6577-4228-eeae-572dd02ac936"
      },
      "outputs": [
        {
          "name": "stdout",
          "output_type": "stream",
          "text": [
            "train_rmse:  0.01047\n",
            "test_rmse:  1.422\n"
          ]
        }
      ],
      "source": [
        "print(\"train_rmse: \",root_mean_squared_error(y_train_,y_trainpred))\n",
        "print(\"test_rmse: \",1.422)"
      ]
    },
    {
      "cell_type": "code",
      "execution_count": null,
      "metadata": {
        "id": "QlbqR7KKKQIK"
      },
      "outputs": [],
      "source": [
        "xgb_model= xgb.XGBRegressor(max_depth=9,n_estimators=2000,learning_rate=0.148,min_child_weight=26,reg_lambda=0.171,reg_alpha=0.170,\n",
        "                            objective ='reg:squarederror',n_jobs=-1,tree_method='gpu_hist',gpu_id=0)\n",
        "xgb_model.fit(X_train,y_train)\n",
        "\n",
        "y_trainpred=xgb_model.predict(X_train).clip(0,20)\n",
        "y_testpred=xgb_model.predict(X_test).clip(0,20)"
      ]
    },
    {
      "cell_type": "code",
      "execution_count": null,
      "metadata": {
        "id": "bfyAqODpPlbL"
      },
      "outputs": [],
      "source": [
        "result_xgb= pd.DataFrame()\n",
        "result_xgb['ID']=range(0,214200)\n",
        "result_xgb['item_cnt_month']=y_testpred\n",
        "\n",
        "result_xgb.to_csv(\"/content/drive/MyDrive/Colab Notebooks/Predict_Future_Sales/result_xgb4.csv\",index=False)"
      ]
    },
    {
      "cell_type": "code",
      "execution_count": null,
      "metadata": {
        "colab": {
          "base_uri": "https://localhost:8080/"
        },
        "id": "xk_tYUr8Pgwx",
        "outputId": "814c9cc9-48ff-4c9b-bcda-d7b1bb0b3661"
      },
      "outputs": [
        {
          "name": "stdout",
          "output_type": "stream",
          "text": [
            "train_rmse:  0.0226\n",
            "test_rmse:  1.442\n"
          ]
        }
      ],
      "source": [
        "print(\"train_rmse: \",root_mean_squared_error(y_train,y_trainpred))\n",
        "print(\"test_rmse: \",1.442)"
      ]
    },
    {
      "cell_type": "code",
      "execution_count": null,
      "metadata": {
        "id": "ygHRkcXn_pXD"
      },
      "outputs": [],
      "source": [
        ""
      ]
    }
  ],
  "metadata": {
    "colab": {
      "collapsed_sections": [],
      "name": "Models.ipynb",
      "provenance": []
    },
    "kernelspec": {
      "display_name": "Python 3",
      "name": "python3"
    },
    "language_info": {
      "name": "python"
    }
  },
  "nbformat": 4,
  "nbformat_minor": 0
}