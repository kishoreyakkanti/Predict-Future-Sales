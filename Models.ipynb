{
  "cells": [
    {
      "cell_type": "markdown",
      "metadata": {
        "id": "8gsrKYAQdmjH"
      },
      "source": [
        "# Modeling"
      ]
    },
    {
      "cell_type": "code",
      "execution_count": null,
      "metadata": {
        "id": "7v4jfR3NcdPA"
      },
      "outputs": [],
      "source": [
        "#Importing Libraries\n",
        "import warnings\n",
        "warnings.filterwarnings(\"ignore\")\n",
        "\n",
        "import pandas as pd \n",
        "import numpy as np\n",
        "import matplotlib.pyplot as plt\n",
        "\n",
        "from sklearn.model_selection import RandomizedSearchCV\n",
        "\n",
        "from sklearn.metrics import mean_squared_error\n",
        "import pickle"
      ]
    },
    {
      "cell_type": "code",
      "execution_count": null,
      "metadata": {
        "colab": {
          "base_uri": "https://localhost:8080/"
        },
        "id": "Szw0-NNWNcmv",
        "outputId": "7ec75bba-fffb-40d1-91c2-a93ad52e4bc5"
      },
      "outputs": [
        {
          "name": "stdout",
          "output_type": "stream",
          "text": [
            "Drive already mounted at /content/drive; to attempt to forcibly remount, call drive.mount(\"/content/drive\", force_remount=True).\n"
          ]
        }
      ],
      "source": [
        "from google.colab import drive\n",
        "drive.mount('/content/drive')"
      ]
    },
    {
      "cell_type": "markdown",
      "metadata": {
        "id": "mqSOdQ4BdvVo"
      },
      "source": [
        "## Reading data"
      ]
    },
    {
      "cell_type": "code",
      "execution_count": null,
      "metadata": {
        "id": "NpnP8kUttbrc"
      },
      "outputs": [],
      "source": [
        "# loading data\n",
        "data=pickle.load(open(\"/content/drive/MyDrive/Colab Notebooks/Predict_Future_Sales/data.p\",\"rb\"))"
      ]
    },
    {
      "cell_type": "markdown",
      "metadata": {
        "id": "nat40-Bkd-oY"
      },
      "source": [
        "## Splitting Data into Train, Validation and Test sets"
      ]
    },
    {
      "cell_type": "code",
      "execution_count": null,
      "metadata": {
        "colab": {
          "base_uri": "https://localhost:8080/"
        },
        "id": "F7SMnpOcZAEi",
        "outputId": "c95ca5d0-ddfe-4a00-d868-c800cbd453e9"
      },
      "outputs": [
        {
          "output_type": "stream",
          "name": "stdout",
          "text": [
            "(1390453, 44) (1390453,)\n",
            "(31531, 44) (31531,)\n",
            "(214200, 44) (214200,)\n"
          ]
        }
      ],
      "source": [
        "X_train=data[data['date_block_num']<33].drop('item_cnt_month', axis=1)\n",
        "y_train=data[data['date_block_num']<33]['item_cnt_month']\n",
        "X_val=data[data['date_block_num']==33].drop('item_cnt_month', axis=1)\n",
        "y_val=data[data['date_block_num']==33]['item_cnt_month']\n",
        "X_test=data[data['date_block_num']==34].drop('item_cnt_month', axis=1)\n",
        "y_test=data[data['date_block_num']==34]['item_cnt_month']\n",
        "\n",
        "print(X_train.shape,y_train.shape)\n",
        "print(X_val.shape,y_val.shape)\n",
        "print(X_test.shape,y_test.shape)"
      ]
    },
    {
      "cell_type": "markdown",
      "metadata": {
        "id": "LQ-mndea5n40"
      },
      "source": [
        "## Linear Regression"
      ]
    },
    {
      "cell_type": "code",
      "execution_count": null,
      "metadata": {
        "id": "Bm-c9Sw5uTgk"
      },
      "outputs": [],
      "source": [
        "from sklearn.linear_model import LinearRegression\n",
        "\n",
        "reg=LinearRegression().fit(X_train,y_train)\n",
        "\n",
        "y_trainpred=reg.predict(X_train).clip(0,20)\n",
        "y_valpred=reg.predict(X_val).clip(0,20)\n",
        "y_testpred=reg.predict(X_test).clip(0,20)"
      ]
    },
    {
      "cell_type": "code",
      "execution_count": null,
      "metadata": {
        "colab": {
          "base_uri": "https://localhost:8080/"
        },
        "id": "epMJW6DCOJsM",
        "outputId": "9f5997f5-50e5-4b0d-b3e0-975b0e53389e"
      },
      "outputs": [
        {
          "name": "stdout",
          "output_type": "stream",
          "text": [
            "train_rmse:  0.9089800662843746\n",
            "val_rmse:  0.8906959373285738\n"
          ]
        }
      ],
      "source": [
        "print(\"train_rmse: \",np.sqrt(mean_squared_error(y_train,y_trainpred)))\n",
        "print(\"val_rmse: \",np.sqrt(mean_squared_error(y_val,y_valpred)))"
      ]
    },
    {
      "cell_type": "markdown",
      "metadata": {
        "id": "u_fzg6CCpjPf"
      },
      "source": [
        "      test_rmse: 1.18\n",
        "\n"
      ]
    },
    {
      "cell_type": "markdown",
      "metadata": {
        "id": "M51GAMaw5-cE"
      },
      "source": [
        "## Decision Tree Regressor"
      ]
    },
    {
      "cell_type": "code",
      "execution_count": null,
      "metadata": {
        "id": "Q2XIs9EX59HK"
      },
      "outputs": [],
      "source": [
        "from sklearn.tree import DecisionTreeRegressor\n",
        "\n",
        "dt=DecisionTreeRegressor()\n",
        "dt.fit(X_train,y_train)\n",
        "\n",
        "y_trainpred=dt.predict(X_train).clip(0,20)\n",
        "y_valpred=dt.predict(X_val).clip(0,20)\n",
        "y_testpred=dt.predict(X_test).clip(0,20)"
      ]
    },
    {
      "cell_type": "code",
      "execution_count": null,
      "metadata": {
        "colab": {
          "base_uri": "https://localhost:8080/"
        },
        "id": "Zh9cNXIjQb5p",
        "outputId": "13458a21-3209-4152-ad0f-5b9613b865f4"
      },
      "outputs": [
        {
          "name": "stdout",
          "output_type": "stream",
          "text": [
            "train_rmse:  0.0\n",
            "val_rmse:  0.34009403076755784\n"
          ]
        }
      ],
      "source": [
        "print(\"train_rmse: \",np.sqrt(mean_squared_error(y_train,y_trainpred)))\n",
        "print(\"val_rmse: \",np.sqrt(mean_squared_error(y_val,y_valpred)))"
      ]
    },
    {
      "cell_type": "code",
      "execution_count": null,
      "metadata": {
        "id": "b-zf_l9Huint"
      },
      "outputs": [],
      "source": [
        "dt_model=DecisionTreeRegressor(max_depth=20,min_samples_split=10)\n",
        "dt_model.fit(X_train,y_train)\n",
        "\n",
        "y_trainpred=dt_model.predict(X_train).clip(0,20)\n",
        "y_valpred=dt_model.predict(X_val).clip(0,20)\n",
        "y_testpred=dt_model.predict(X_test).clip(0,20)"
      ]
    },
    {
      "cell_type": "code",
      "execution_count": null,
      "metadata": {
        "colab": {
          "base_uri": "https://localhost:8080/"
        },
        "id": "wWr-ebuqRDHt",
        "outputId": "bcbc48ca-5d00-4ee7-bac2-8726093391aa"
      },
      "outputs": [
        {
          "name": "stdout",
          "output_type": "stream",
          "text": [
            "train_rmse:  0.1156807167413633\n",
            "val_rmse:  0.3224740494340663\n"
          ]
        }
      ],
      "source": [
        "print(\"train_rmse: \",np.sqrt(mean_squared_error(y_train,y_trainpred)))\n",
        "print(\"val_rmse: \",np.sqrt(mean_squared_error(y_val,y_valpred)))"
      ]
    },
    {
      "cell_type": "markdown",
      "metadata": {
        "id": "gRNKU6Qvz5CI"
      },
      "source": [
        "## Random Forest Regressor"
      ]
    },
    {
      "cell_type": "code",
      "execution_count": null,
      "metadata": {
        "id": "xFjhacWy-78i"
      },
      "outputs": [],
      "source": [
        "from sklearn.ensemble import RandomForestRegressor\n",
        "\n",
        "rfr=RandomForestRegressor()\n",
        "rfr.fit(X_train,y_train)\n",
        "\n",
        "y_trainpred=rfr.predict(X_train).clip(0,20)\n",
        "y_valpred=rfr.predict(X_val).clip(0,20)\n",
        "y_testpred=rfr.predict(X_test).clip(0,20)"
      ]
    },
    {
      "cell_type": "code",
      "execution_count": null,
      "metadata": {
        "colab": {
          "base_uri": "https://localhost:8080/"
        },
        "id": "1cGDbU2lRKIq",
        "outputId": "880092d4-60f1-4796-a7ee-4f0006026aa8"
      },
      "outputs": [
        {
          "name": "stdout",
          "output_type": "stream",
          "text": [
            "train_rmse:  0.07177234580395336\n",
            "val_rmse:  0.20803383269243023\n"
          ]
        }
      ],
      "source": [
        "print(\"train_rmse: \",np.sqrt(mean_squared_error(y_train,y_trainpred)))\n",
        "print(\"val_rmse: \",np.sqrt(mean_squared_error(y_val,y_valpred)))"
      ]
    },
    {
      "cell_type": "markdown",
      "metadata": {
        "id": "3w8uHe1126_H"
      },
      "source": [
        "## XGBoost Regressor"
      ]
    },
    {
      "cell_type": "code",
      "execution_count": null,
      "metadata": {
        "id": "tRpLraGe3EPa"
      },
      "outputs": [],
      "source": [
        "import xgboost as xgb\n",
        "\n",
        "xgb_model= xgb.XGBRegressor(objective ='reg:squarederror')\n",
        "xgb_model.fit(X_train,y_train)\n",
        "\n",
        "y_trainpred=xgb_model.predict(X_train).clip(0,20)\n",
        "y_valpred=xgb_model.predict(X_val).clip(0,20)\n",
        "y_testpred=xgb_model.predict(X_test).clip(0,20)"
      ]
    },
    {
      "cell_type": "code",
      "execution_count": null,
      "metadata": {
        "colab": {
          "base_uri": "https://localhost:8080/"
        },
        "id": "LTT05gKyRvYA",
        "outputId": "cc5f5534-0ad7-4db5-d6af-bc1fadc0af3a"
      },
      "outputs": [
        {
          "output_type": "stream",
          "name": "stdout",
          "text": [
            "train_rmse:  0.5253807786252751\n",
            "val_rmse:  0.530790219623368\n"
          ]
        }
      ],
      "source": [
        "print(\"train_rmse: \",np.sqrt(mean_squared_error(y_train,y_trainpred)))\n",
        "print(\"val_rmse: \",np.sqrt(mean_squared_error(y_val,y_valpred)))"
      ]
    },
    {
      "cell_type": "code",
      "source": [
        "import xgboost as xgb\n",
        "\n",
        "xgb_model= xgb.XGBRegressor(max_depth=6,learning_rate=0.148,min_child_weight=26,reg_lambda=0.171,reg_alpha=0.170,n_jobs=-1,objective ='reg:squarederror')\n",
        "xgb_model.fit(X_train,y_train)\n",
        "\n",
        "y_trainpred=xgb_model.predict(X_train).clip(0,20)\n",
        "y_valpred=xgb_model.predict(X_val).clip(0,20)\n",
        "y_testpred=xgb_model.predict(X_test).clip(0,20)"
      ],
      "metadata": {
        "id": "zocmWsVB3Ezh"
      },
      "execution_count": null,
      "outputs": []
    },
    {
      "cell_type": "code",
      "source": [
        "print(\"train_rmse: \",np.sqrt(mean_squared_error(y_train,y_trainpred)))\n",
        "print(\"val_rmse: \",np.sqrt(mean_squared_error(y_val,y_valpred)))"
      ],
      "metadata": {
        "colab": {
          "base_uri": "https://localhost:8080/"
        },
        "id": "6kkvNywcX3P0",
        "outputId": "4eb804fc-995c-43db-8bd6-630b374f3c9d"
      },
      "execution_count": null,
      "outputs": [
        {
          "output_type": "stream",
          "name": "stdout",
          "text": [
            "train_rmse:  0.16885744992237273\n",
            "val_rmse:  0.17725205657519655\n"
          ]
        }
      ]
    },
    {
      "cell_type": "code",
      "execution_count": null,
      "metadata": {
        "colab": {
          "base_uri": "https://localhost:8080/",
          "height": 730
        },
        "id": "52JnTT-YhA1G",
        "outputId": "5cee62b1-7734-4e84-b4c3-8ee35fdaef15"
      },
      "outputs": [
        {
          "output_type": "display_data",
          "data": {
            "text/plain": [
              "<Figure size 720x864 with 1 Axes>"
            ],
            "image/png": "[encoded data removed]"
          },
          "metadata": {
            "needs_background": "light"
          }
        }
      ],
      "source": [
        "features = X_train.columns\n",
        "importances =xgb_model.feature_importances_\n",
        "indices = (np.argsort(importances))[-25:]\n",
        "plt.figure(figsize=(10,12))\n",
        "plt.title('Feature Importances')\n",
        "plt.barh(range(len(indices)), importances[indices], color='r', align='center')\n",
        "plt.yticks(range(len(indices)), [features[i] for i in indices])\n",
        "plt.xlabel('Relative Importance')\n",
        "plt.show()"
      ]
    },
    {
      "cell_type": "code",
      "source": [
        "test=pd.read_csv(\"/content/drive/MyDrive/Colab Notebooks/Predict_Future_Sales/test.csv\")\n",
        "\n",
        "test['item_cnt_month']=y_testpred\n",
        "\n",
        "result=test.drop(['shop_id','item_id'],axis=1)"
      ],
      "metadata": {
        "id": "_PJMHl_kalpz"
      },
      "execution_count": null,
      "outputs": []
    },
    {
      "cell_type": "code",
      "source": [
        "result.to_csv(\"/content/drive/MyDrive/Colab Notebooks/Predict_Future_Sales/sampleresult13.csv\",index=False)"
      ],
      "metadata": {
        "id": "gA-kf1L9a4Uu"
      },
      "execution_count": null,
      "outputs": []
    }
  ],
  "metadata": {
    "colab": {
      "collapsed_sections": [],
      "name": "Models.ipynb",
      "provenance": [],
      "mount_file_id": "1mqIqKm1RXHa8jHUQe1SgT_z77JTrDMSr",
      "authorship_tag": "ABX9TyPi3TsDbF1r/QLD+nCiwJSS"
    },
    "kernelspec": {
      "display_name": "Python 3",
      "name": "python3"
    },
    "language_info": {
      "name": "python"
    }
  },
  "nbformat": 4,
  "nbformat_minor": 0
}